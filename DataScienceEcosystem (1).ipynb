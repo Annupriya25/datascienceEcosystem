{
 "cells": [
  {
   "cell_type": "markdown",
   "id": "93ea5c7d-5f24-4daf-adaa-207038688386",
   "metadata": {},
   "source": [
    "# Data Science Tools and Ecosystem\r\n"
   ]
  },
  {
   "cell_type": "markdown",
   "id": "e2d78ab0-e268-4263-8c64-358548e3d6bc",
   "metadata": {},
   "source": [
    "In this notebook, Data Science Tools and Ecosystem are summarized.\r\n"
   ]
  },
  {
   "cell_type": "markdown",
   "id": "c3f4174f-5510-48ff-8a01-51849852e428",
   "metadata": {},
   "source": [
    "Some of the popular languages that Data Scientists use are:  \r\n",
    "\r\n",
    "1. Python  \r\n",
    "2. R  \r\n",
    "3. SQL  \r\n",
    "4. Julia\r\n"
   ]
  },
  {
   "cell_type": "markdown",
   "id": "bb109f7c-6c23-43c4-9e2c-6c9c64f63fab",
   "metadata": {},
   "source": [
    "Some of the commonly used libraries used by Data Scientists include:  \r\n",
    "\r\n",
    "1. Pandas  \r\n",
    "2. NumPy  \r\n",
    "3. Matplotlib  \r\n",
    "4. Scikit-learn  \r\n",
    "5. TensorFlow\r\n"
   ]
  },
  {
   "cell_type": "markdown",
   "id": "0052ec48-b994-4fbd-8227-b34f2e745e61",
   "metadata": {},
   "source": [
    "### Data Science Tools\n",
    "\n",
    "| Data Science Tools |\n",
    "|---------------------|\n",
    "| Jupyter Notebook    |\n",
    "| RStudio             |\n",
    "| Apache Spark        |\n",
    "|"
   ]
  },
  {
   "cell_type": "markdown",
   "id": "8124bb80-4173-484a-b402-d75a894a74ba",
   "metadata": {},
   "source": [
    "### Below are a few examples of evaluating arithmetic expressions in Python.\r\n"
   ]
  },
  {
   "cell_type": "code",
   "execution_count": 11,
   "id": "1db14b82-09ca-4829-8d37-65bff1b85bf0",
   "metadata": {},
   "outputs": [
    {
     "data": {
      "text/plain": [
       "17"
      ]
     },
     "execution_count": 11,
     "metadata": {},
     "output_type": "execute_result"
    }
   ],
   "source": [
    "# This is a simple arithmetic expression to multiply then add integers\n",
    "(3 * 4) + 5\n"
   ]
  },
  {
   "cell_type": "code",
   "execution_count": 13,
   "id": "2c984b0b-ed4f-4ed1-b313-bc397d36138d",
   "metadata": {},
   "outputs": [
    {
     "data": {
      "text/plain": [
       "3.3333333333333335"
      ]
     },
     "execution_count": 13,
     "metadata": {},
     "output_type": "execute_result"
    }
   ],
   "source": [
    "# This will convert 200 minutes to hours by dividing by 60\n",
    "200 / 60\n"
   ]
  },
  {
   "cell_type": "markdown",
   "id": "42dd05c4-0abd-42c7-b7a9-77c906ebde4b",
   "metadata": {},
   "source": [
    "**Objectives:**\r\n",
    "\r\n",
    "- List popular languages for Data Science  \r\n",
    "- List commonly used libraries in Data Science  \r\n",
    "- Create a table of Data Science tools  \r\n",
    "- Demonstrate arithmetic operations in Python  \r\n",
    "- Convert minutes to hours using Python code  \r\n"
   ]
  },
  {
   "cell_type": "markdown",
   "id": "3cd0e195-339f-4eb0-9b6f-cbf46506a826",
   "metadata": {},
   "source": [
    "## Author  \r",
    "Annu Priya\r\n"
   ]
  },
  {
   "cell_type": "code",
   "execution_count": null,
   "id": "a44427d2-4275-4e80-9c0d-da5350a742f0",
   "metadata": {},
   "outputs": [],
   "source": []
  }
 ],
 "metadata": {
  "kernelspec": {
   "display_name": "Python 3 (ipykernel)",
   "language": "python",
   "name": "python3"
  },
  "language_info": {
   "codemirror_mode": {
    "name": "ipython",
    "version": 3
   },
   "file_extension": ".py",
   "mimetype": "text/x-python",
   "name": "python",
   "nbconvert_exporter": "python",
   "pygments_lexer": "ipython3",
   "version": "3.12.4"
  }
 },
 "nbformat": 4,
 "nbformat_minor": 5
}
